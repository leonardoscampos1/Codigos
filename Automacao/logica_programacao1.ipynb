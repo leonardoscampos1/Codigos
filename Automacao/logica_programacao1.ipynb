{
 "cells": [
  {
   "cell_type": "code",
   "execution_count": 7,
   "metadata": {},
   "outputs": [
    {
     "name": "stdout",
     "output_type": "stream",
     "text": [
      "500.0\n",
      "1250.0\n",
      "1750.0\n"
     ]
    }
   ],
   "source": [
    "iss = 0.1\n",
    "ir = 0.2\n",
    "csll = 0.05\n",
    "\n",
    "faturamento = 5000\n",
    "lucro = 1000\n",
    "\n",
    "#calcular o imposto sobre o faturamento\n",
    "\n",
    "imposto_faturamento = faturamento * iss\n",
    "print(imposto_faturamento)\n",
    "\n",
    "#calcular o imposto sobre o lucro\n",
    "imposto_lucro = faturamento * ir + csll * faturamento\n",
    "print(imposto_lucro)\n",
    "\n",
    "#calcular o imposto total\n",
    "imposto_total = imposto_faturamento + imposto_lucro\n",
    "print(imposto_total)"
   ]
  },
  {
   "cell_type": "code",
   "execution_count": 11,
   "metadata": {},
   "outputs": [
    {
     "name": "stdout",
     "output_type": "stream",
     "text": [
      "1800\n",
      "1000\n"
     ]
    }
   ],
   "source": [
    "dic_produtos = {\"Iphone\":1000,\"Ipad\":300,\"Macbook\":50,\"Apple Watch\":250,\"Air Pod\":200}\n",
    "total_produtos = sum(dic_produtos.values())\n",
    "maximo = max(dic_produtos.values())\n",
    "print(total_produtos)\n",
    "print(maximo)"
   ]
  },
  {
   "cell_type": "code",
   "execution_count": 14,
   "metadata": {},
   "outputs": [
    {
     "name": "stdout",
     "output_type": "stream",
     "text": [
      "R$ 5000,00\n"
     ]
    }
   ],
   "source": [
    "texto_email = \"Prezado, Segue total de vendas de ontem: R$ 5000,00\"\n",
    "\n",
    "#find the \"R$\"\n",
    "posicao = texto_email.find(\"R$\")\n",
    "\n",
    "#get all the text before the \"R$\"\n",
    "texto_email = texto_email[posicao:]\n",
    "print(texto_email)"
   ]
  },
  {
   "cell_type": "code",
   "execution_count": 23,
   "metadata": {},
   "outputs": [
    {
     "name": "stdout",
     "output_type": "stream",
     "text": [
      "50\n"
     ]
    }
   ],
   "source": [
    "#calcular bonus dos funcionarios\n",
    "\n",
    "venda = 1500\n",
    "meta = 500\n",
    "supermeta = 1000\n",
    "if venda >= meta:\n",
    "    bonus = 50\n",
    "    if venda >= supermeta:\n",
    "        bonus = 100\n",
    "else:           "
   ]
  }
 ],
 "metadata": {
  "kernelspec": {
   "display_name": ".venv",
   "language": "python",
   "name": "python3"
  },
  "language_info": {
   "codemirror_mode": {
    "name": "ipython",
    "version": 3
   },
   "file_extension": ".py",
   "mimetype": "text/x-python",
   "name": "python",
   "nbconvert_exporter": "python",
   "pygments_lexer": "ipython3",
   "version": "3.12.5"
  }
 },
 "nbformat": 4,
 "nbformat_minor": 2
}
