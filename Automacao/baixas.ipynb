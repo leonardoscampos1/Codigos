{
 "cells": [
  {
   "cell_type": "code",
   "execution_count": 1,
   "metadata": {},
   "outputs": [],
   "source": [
    "\n",
    "from selenium import webdriver\n",
    "from selenium.webdriver.common.by import By\n",
    "from selenium.webdriver.support.ui import WebDriverWait\n",
    "from selenium.webdriver.support import expected_conditions as EC\n",
    "from time import sleep\n",
    "\n",
    "email = input(\"Digite seu email: \")\n",
    "senha = input(\"Digite seu senha: \")\n",
    "filial= input(\"Digite a filial: \")\n",
    "\n",
    "driver = webdriver.Chrome()\n",
    "driver.maximize_window()\n",
    "driver.get(\"https://one.bees.com/order-management/bulk-editor\")\n",
    "WebDriverWait(driver, 20).until(EC.element_to_be_clickable((By.XPATH, '//*[@id=\"onetrust-accept-btn-handler\"]'))).click()\n",
    "WebDriverWait(driver, 20).until(EC.element_to_be_clickable((By.XPATH, '//*[@id=\"signInName\"]'))).send_keys(email)\n",
    "driver.find_element(By.XPATH, '//*[@id=\"next\"]').click()\n",
    "WebDriverWait(driver, 20).until(EC.element_to_be_clickable((By.XPATH, '//*[@id=\"password\"]'))).send_keys(senha)\n",
    "driver.find_element(By.XPATH, '//*[@id=\"next\"]').click() \n",
    "WebDriverWait(driver, 20).until(EC.element_to_be_clickable((By.XPATH, '//*[@id=\"single-spa-application:@admin-portal/main-mfe\"]/section/header/div[1]/div/div[1]/div[3]/div[2]/button'))).click()\n",
    "WebDriverWait(driver, 20).until(EC.element_to_be_clickable((By.XPATH, '//div[@class=\"c-jbBDRJ c-jbBDRJ-iiwJOau-css\"]'))).click()\n",
    "WebDriverWait(driver, 20).until(EC.element_to_be_clickable((By.XPATH, '//button[@id=\"TO_BE_DELIVERED\"]'))).click()\n",
    "WebDriverWait(driver, 20).until(EC.element_to_be_clickable((By.XPATH, '/html/body/main/div/div/div/div[2]/div[2]/div[2]/div[1]/div/button'))).click()\n",
    "WebDriverWait(driver, 20).until(EC.element_to_be_clickable((By.XPATH, '//button[@role=\"checkbox\"]'))).click()\n",
    "WebDriverWait(driver, 20).until(EC.element_to_be_clickable((By.XPATH, '//*[@id=\"radix-11\"]/div[3]/div/button[2]'))).click()\n",
    "sleep(10)\n",
    "driver.quit()\n"
   ]
  },
  {
   "cell_type": "code",
   "execution_count": 2,
   "metadata": {},
   "outputs": [
    {
     "name": "stdout",
     "output_type": "stream",
     "text": [
      "Arquivo antigo removido: C:\\Users\\leonardo.campos\\Downloads\\pedidos_a_entregar_Rigarr.csv\n",
      "Arquivo renomeado para: pedidos_a_entregar_Rigarr.csv\n"
     ]
    }
   ],
   "source": [
    "import pandas as pd\n",
    "import os\n",
    "caminho = r\"C:\\Users\\leonardo.campos\\Downloads\"\n",
    "novo_caminho = r\"C:\\Users\\leonardo.campos\\Downloads\"\n",
    "lista_arquivos = os.listdir (caminho)\n",
    "lista_arquivos = [arquivo for arquivo in os.listdir(caminho) if \"entregue\" in arquivo]\n",
    "ultimo_arquivo = max(lista_arquivos, key= lambda x: os.path.getmtime(f\"{caminho}/{x}\"))\n",
    "caminho_arquivo = os.path.join(caminho,ultimo_arquivo)\n",
    "tabela_pedidos= pd.read_csv(caminho_arquivo,sep = ',', encoding = 'utf-8',dtype=str).replace(\".0\",\"\")\n",
    "tabela_pedidos = tabela_pedidos.dropna(how='all',axis=1)\n",
    "# Renomear o arquivo para \"pedidos_a_entregar.csv\"\n",
    "# Caminho do novo arquivo\n",
    "novo_nome_arquivo = f\"pedidos_a_entregar_{filial}.csv\"\n",
    "novo_caminho_arquivo = os.path.join(novo_caminho,novo_nome_arquivo)\n",
    "\n",
    "# Verificar se o arquivo antigo já existe e removê-lo\n",
    "if os.path.exists(novo_caminho_arquivo):\n",
    "    os.remove(novo_caminho_arquivo)\n",
    "    print(f\"Arquivo antigo removido: {novo_caminho_arquivo}\")\n",
    "\n",
    "# Renomear o arquivo para \"pedidos_a_entregar.csv\"\n",
    "os.rename(caminho_arquivo, novo_caminho_arquivo,)\n",
    "\n",
    "# Exibir mensagem confirmando a renomeação\n",
    "print(f\"Arquivo renomeado para: {novo_nome_arquivo}\")\n"
   ]
  },
  {
   "cell_type": "code",
   "execution_count": 3,
   "metadata": {},
   "outputs": [],
   "source": [
    "from winotify import Notification, audio\n",
    "\n",
    "notificacao = Notification(app_id=\"Automacao BEES\",\n",
    "                     title=\"Automacao BEES\",\n",
    "                     msg=\"Acabou de rodar! Bora trabalhar!\",\n",
    "                     duration='long',\n",
    "                     icon=r\"C:\\Users\\leonardo.campos\\Pictures\\Imagem1.png\",\n",
    "                     )\n",
    "notificacao.set_audio(audio.LoopingAlarm,loop=False)\n",
    "notificacao.show()"
   ]
  }
 ],
 "metadata": {
  "kernelspec": {
   "display_name": ".venv",
   "language": "python",
   "name": "python3"
  },
  "language_info": {
   "codemirror_mode": {
    "name": "ipython",
    "version": 3
   },
   "file_extension": ".py",
   "mimetype": "text/x-python",
   "name": "python",
   "nbconvert_exporter": "python",
   "pygments_lexer": "ipython3",
   "version": "3.13.1"
  }
 },
 "nbformat": 4,
 "nbformat_minor": 2
}
