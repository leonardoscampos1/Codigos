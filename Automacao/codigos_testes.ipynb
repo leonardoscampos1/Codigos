{
 "cells": [
  {
   "cell_type": "code",
   "execution_count": 2,
   "metadata": {},
   "outputs": [],
   "source": [
    "from selenium import webdriver\n",
    "from selenium.webdriver.support.ui import WebDriverWait\n",
    "from selenium.webdriver.support import expected_conditions as EC\n",
    "import time\n",
    "\n",
    "email =\"leonardo.campos@rigarr.com.br\"\n",
    "senha = \"Br@sil32aaaaaaa\"\n",
    "\n",
    "driver = webdriver.Chrome()\n",
    "driver.maximize_window()\n",
    "wait = WebDriverWait(driver,20)\n",
    "driver.get(\"https://one.bees.com/inventory-admin\")\n",
    "campo_email = wait.until(EC.element_to_be_clickable(('id','signInName')))\n",
    "campo_email.send_keys(email)\n",
    "botao_continue = wait.until(EC.element_to_be_clickable(('id','next')))\n",
    "botao_continue.click()\n",
    "campo_senha = wait.until(EC.element_to_be_clickable(('id','password')))\n",
    "campo_senha.send_keys(senha)\n",
    "botao_continue = wait.until(EC.element_to_be_clickable(('id','next')))\n",
    "botao_continue.click()\n",
    "botao_entendi = wait.until(EC.element_to_be_clickable(('xpath','//button[text()=\"Entendi\"]')))\n",
    "botao_entendi.click()\n",
    "time.sleep(5)"
   ]
  },
  {
   "cell_type": "code",
   "execution_count": null,
   "metadata": {},
   "outputs": [
    {
     "name": "stdout",
     "output_type": "stream",
     "text": [
      "O site foi fechado. Reabrindo...\n"
     ]
    }
   ],
   "source": [
    "import time\n",
    "from selenium import webdriver\n",
    "from selenium.webdriver.common.by import By\n",
    "from selenium.webdriver.common.keys import Keys\n",
    "from selenium.webdriver.common.action_chains import ActionChains\n",
    "from selenium.webdriver.support.ui import WebDriverWait\n",
    "from selenium.webdriver.support import expected_conditions as EC\n",
    "\n",
    "# Dados de login\n",
    "url = \"https://one.bees.com/order-management\"\n",
    "email = \"leonardo.campos@rigarr.com.br\"\n",
    "senha = \"Br@sil32aaaaaaa\"\n",
    "\n",
    "# Função para realizar o login\n",
    "def fazer_login(driver):\n",
    "    wait = WebDriverWait(driver, 10)\n",
    "    \n",
    "    driver.get(url)\n",
    "    \n",
    "    campo_email = wait.until(EC.element_to_be_clickable((By.ID, 'signInName')))\n",
    "    campo_email.send_keys(email)\n",
    "    \n",
    "    botao_continue = wait.until(EC.element_to_be_clickable((By.ID, 'next')))\n",
    "    botao_continue.click()\n",
    "    \n",
    "    campo_senha = wait.until(EC.element_to_be_clickable((By.ID, 'password')))\n",
    "    campo_senha.send_keys(senha)\n",
    "    \n",
    "    botao_continue = wait.until(EC.element_to_be_clickable((By.ID, 'next')))\n",
    "    botao_continue.click()\n",
    "    \n",
    "    botao_entendi = wait.until(EC.element_to_be_clickable((By.XPATH, '//button[text()=\"Entendi\"]')))\n",
    "    botao_entendi.click()\n",
    "\n",
    "# Função para verificar se o site está aberto e, se não estiver, reabri-lo\n",
    "def manter_site_aberto():\n",
    "    driver = webdriver.Chrome()  # ou o driver que você preferir (por exemplo, Firefox)\n",
    "    \n",
    "    try:\n",
    "        while True:\n",
    "            try:\n",
    "                # Tenta verificar a janela ativa\n",
    "                if driver.current_url != url:\n",
    "                    print(\"O site foi fechado. Reabrindo...\")\n",
    "                    fazer_login(driver)\n",
    "                    time.sleep(5)\n",
    "                else:\n",
    "                    time.sleep(10)  # Verifica a cada 10 segundos\n",
    "            except Exception as e:\n",
    "                print(f\"Erro detectado: {e}. Reabrindo...\")\n",
    "                driver.quit()  # Fecha o driver atual\n",
    "                driver = webdriver.Chrome()  # Reabre o driver\n",
    "                fazer_login(driver)\n",
    "                time.sleep(5)\n",
    "    except KeyboardInterrupt:\n",
    "        print(\"Execução interrompida pelo usuário.\")\n",
    "        driver.quit()  # Fecha o navegador ao finalizar o programa\n",
    "\n",
    "# Chama a função para manter o site aberto\n",
    "manter_site_aberto()\n"
   ]
  },
  {
   "cell_type": "code",
   "execution_count": 6,
   "metadata": {},
   "outputs": [
    {
     "data": {
      "text/plain": [
       "[{'descricao': 'Aguardente Old Cesar 88 Garrafa Vidro 965ml', 'preco': '71'},\n",
       " {'descricao': 'Aperitivo Aperol Garrafa Vidro 750ml', 'preco': '644'},\n",
       " {'descricao': 'Aperitivo Argentino Fernet-Branca Garrafa Vidro 750ml',\n",
       "  'preco': '4490'},\n",
       " {'descricao': 'Aperitivo Campari Garrafa Vidro 900ml', 'preco': '447'},\n",
       " {'descricao': 'Aperitivo Cynar Garrafa Vidro 900ml', 'preco': '985'},\n",
       " {'descricao': 'Aperitivo Italiano Fernet-Branca Garrafa Vidro 750ml',\n",
       "  'preco': '865'},\n",
       " {'descricao': 'Aperitivo Lillet Blanc Garrafa Vidro 750ml', 'preco': '2569'},\n",
       " {'descricao': 'Aperitivo Ramazzotti Amaro Garrafa Vidro 750ml',\n",
       "  'preco': '3331'},\n",
       " {'descricao': 'Aperitivo Ramazzotti Rosato Garrafa Vidro 750ml',\n",
       "  'preco': '2606'},\n",
       " {'descricao': 'Aperitivo Vermelhão Amaro Garrafa Vidro 740ml',\n",
       "  'preco': '3199'}]"
      ]
     },
     "metadata": {},
     "output_type": "display_data"
    },
    {
     "data": {
      "text/plain": [
       "[{'descricao': 'Aguardente Old Cesar 88 Garrafa Vidro 965ml', 'preco': '71'},\n",
       " {'descricao': 'Aperitivo Aperol Garrafa Vidro 750ml', 'preco': '644'},\n",
       " {'descricao': 'Aperitivo Argentino Fernet-Branca Garrafa Vidro 750ml',\n",
       "  'preco': '4490'},\n",
       " {'descricao': 'Aperitivo Campari Garrafa Vidro 900ml', 'preco': '447'},\n",
       " {'descricao': 'Aperitivo Cynar Garrafa Vidro 900ml', 'preco': '985'},\n",
       " {'descricao': 'Aperitivo Italiano Fernet-Branca Garrafa Vidro 750ml',\n",
       "  'preco': '865'},\n",
       " {'descricao': 'Aperitivo Lillet Blanc Garrafa Vidro 750ml', 'preco': '2569'},\n",
       " {'descricao': 'Aperitivo Ramazzotti Amaro Garrafa Vidro 750ml',\n",
       "  'preco': '3331'},\n",
       " {'descricao': 'Aperitivo Ramazzotti Rosato Garrafa Vidro 750ml',\n",
       "  'preco': '2606'},\n",
       " {'descricao': 'Aperitivo Vermelhão Amaro Garrafa Vidro 740ml',\n",
       "  'preco': '3199'},\n",
       " {'descricao': 'Aguardente Old Cesar 88 Garrafa Vidro 965ml', 'preco': '71'},\n",
       " {'descricao': 'Aperitivo Aperol Garrafa Vidro 750ml', 'preco': '644'},\n",
       " {'descricao': 'Aperitivo Argentino Fernet-Branca Garrafa Vidro 750ml',\n",
       "  'preco': '4490'},\n",
       " {'descricao': 'Aperitivo Campari Garrafa Vidro 900ml', 'preco': '447'},\n",
       " {'descricao': 'Aperitivo Cynar Garrafa Vidro 900ml', 'preco': '985'},\n",
       " {'descricao': 'Aperitivo Italiano Fernet-Branca Garrafa Vidro 750ml',\n",
       "  'preco': '865'},\n",
       " {'descricao': 'Aperitivo Lillet Blanc Garrafa Vidro 750ml', 'preco': '2569'},\n",
       " {'descricao': 'Aperitivo Ramazzotti Amaro Garrafa Vidro 750ml',\n",
       "  'preco': '3331'},\n",
       " {'descricao': 'Aperitivo Ramazzotti Rosato Garrafa Vidro 750ml',\n",
       "  'preco': '2606'},\n",
       " {'descricao': 'Aperitivo Vermelhão Amaro Garrafa Vidro 740ml',\n",
       "  'preco': '3199'}]"
      ]
     },
     "metadata": {},
     "output_type": "display_data"
    },
    {
     "ename": "KeyboardInterrupt",
     "evalue": "",
     "output_type": "error",
     "traceback": [
      "\u001b[1;31m---------------------------------------------------------------------------\u001b[0m",
      "\u001b[1;31mKeyboardInterrupt\u001b[0m                         Traceback (most recent call last)",
      "Cell \u001b[1;32mIn[6], line 8\u001b[0m\n\u001b[0;32m      4\u001b[0m driver\u001b[38;5;241m.\u001b[39mget(\u001b[38;5;124mf\u001b[39m\u001b[38;5;124m\"\u001b[39m\u001b[38;5;124mhttps://one.bees.com/price-admin/view-prices?sortBy=productTitle&sortAs=ASC&page=1&search=&selectedCountry=BR&selectedVendor=dc4ea57c-839f-477f-9b0b-df6bc4e74fd8&ddc=\u001b[39m\u001b[38;5;132;01m{\u001b[39;00mfilial\u001b[38;5;132;01m}\u001b[39;00m\u001b[38;5;124m\"\u001b[39m)\n\u001b[0;32m      5\u001b[0m WebDriverWait(driver, \u001b[38;5;241m10\u001b[39m)\u001b[38;5;241m.\u001b[39muntil(\n\u001b[0;32m      6\u001b[0m             EC\u001b[38;5;241m.\u001b[39mpresence_of_element_located((\u001b[38;5;124m'\u001b[39m\u001b[38;5;124mxpath\u001b[39m\u001b[38;5;124m'\u001b[39m, \u001b[38;5;124m'\u001b[39m\u001b[38;5;124m//tbody[@role=\u001b[39m\u001b[38;5;124m\"\u001b[39m\u001b[38;5;124mrowgroup\u001b[39m\u001b[38;5;124m\"\u001b[39m\u001b[38;5;124m]\u001b[39m\u001b[38;5;124m'\u001b[39m))\n\u001b[0;32m      7\u001b[0m         )\n\u001b[1;32m----> 8\u001b[0m \u001b[43mtime\u001b[49m\u001b[38;5;241;43m.\u001b[39;49m\u001b[43msleep\u001b[49m\u001b[43m(\u001b[49m\u001b[38;5;241;43m5\u001b[39;49m\u001b[43m)\u001b[49m\n\u001b[0;32m      9\u001b[0m tbody \u001b[38;5;241m=\u001b[39m driver\u001b[38;5;241m.\u001b[39mfind_element(\u001b[38;5;124m'\u001b[39m\u001b[38;5;124mxpath\u001b[39m\u001b[38;5;124m'\u001b[39m, \u001b[38;5;124m'\u001b[39m\u001b[38;5;124m//*[@id=\u001b[39m\u001b[38;5;124m\"\u001b[39m\u001b[38;5;124msingle-spa-application:@bees-hub/price-admin-mfe\u001b[39m\u001b[38;5;124m\"\u001b[39m\u001b[38;5;124m]/div/div/div/div[3]/div[3]/div[1]/div[2]/table/tbody\u001b[39m\u001b[38;5;124m'\u001b[39m)\n\u001b[0;32m     10\u001b[0m produtos \u001b[38;5;241m=\u001b[39m tbody\u001b[38;5;241m.\u001b[39mfind_elements(\u001b[38;5;124m'\u001b[39m\u001b[38;5;124mxpath\u001b[39m\u001b[38;5;124m'\u001b[39m, \u001b[38;5;124m'\u001b[39m\u001b[38;5;124m.//tr[@role=\u001b[39m\u001b[38;5;124m\"\u001b[39m\u001b[38;5;124mrow\u001b[39m\u001b[38;5;124m\"\u001b[39m\u001b[38;5;124m]\u001b[39m\u001b[38;5;124m'\u001b[39m)\n",
      "\u001b[1;31mKeyboardInterrupt\u001b[0m: "
     ]
    }
   ],
   "source": [
    "filiais = ['RIGARRSPCAPITAL','RIGARRRJCAPITAL','RIGARRMGCAPITAL']\n",
    "dados = []\n",
    "for filial in filiais:\n",
    "    driver.get(f\"https://one.bees.com/price-admin/view-prices?sortBy=productTitle&sortAs=ASC&page=1&search=&selectedCountry=BR&selectedVendor=dc4ea57c-839f-477f-9b0b-df6bc4e74fd8&ddc={filial}\")\n",
    "    WebDriverWait(driver, 10).until(\n",
    "                EC.presence_of_element_located(('xpath', '//tbody[@role=\"rowgroup\"]'))\n",
    "            )\n",
    "    time.sleep(5)\n",
    "    tbody = driver.find_element('xpath', '//*[@id=\"single-spa-application:@bees-hub/price-admin-mfe\"]/div/div/div/div[3]/div[3]/div[1]/div[2]/table/tbody')\n",
    "    produtos = tbody.find_elements('xpath', './/tr[@role=\"row\"]')\n",
    "    for produtos in produtos:\n",
    "        descricao = produtos.find_element('xpath', './/td[2]').text.strip()\n",
    "        preco = produtos.find_element('xpath', './/td[3]').text.strip()\n",
    "        dados.append({'descricao':descricao, 'preco':preco})\n",
    "        display(dados)\n",
    "        "
   ]
  }
 ],
 "metadata": {
  "kernelspec": {
   "display_name": ".venv",
   "language": "python",
   "name": "python3"
  },
  "language_info": {
   "codemirror_mode": {
    "name": "ipython",
    "version": 3
   },
   "file_extension": ".py",
   "mimetype": "text/x-python",
   "name": "python",
   "nbconvert_exporter": "python",
   "pygments_lexer": "ipython3",
   "version": "3.12.5"
  }
 },
 "nbformat": 4,
 "nbformat_minor": 2
}
