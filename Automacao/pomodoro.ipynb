{
 "cells": [
  {
   "cell_type": "code",
   "execution_count": 2,
   "metadata": {},
   "outputs": [
    {
     "name": "stdout",
     "output_type": "stream",
     "text": [
      "Iniciando ciclo 1 de 4 - Foco no trabalho!\n",
      "Tempo restante: 00:01\n",
      "Ciclo 1 concluído! Hora de uma pausa de 5 minutos.\n",
      "Iniciando ciclo 2 de 4 - Foco no trabalho!\n",
      "Tempo restante: 00:01\n",
      "Ciclo 2 concluído! Hora de uma pausa de 5 minutos.\n",
      "Iniciando ciclo 3 de 4 - Foco no trabalho!\n",
      "Tempo restante: 00:01\n",
      "Ciclo 3 concluído! Hora de uma pausa de 5 minutos.\n",
      "Iniciando ciclo 4 de 4 - Foco no trabalho!\n",
      "Tempo restante: 00:01\n",
      "Ciclo 4 concluído! Hora de uma pausa de 5 minutos.\n",
      "Pausa! Tempo restante: 00:01\n",
      "Hora de uma pausa longa de 15 minutos!\n",
      "Todos os ciclos concluídos! Boa sorte no próximo Pomodoro!\n"
     ]
    }
   ],
   "source": [
    "import time\n",
    "import os\n",
    "\n",
    "# Função para tocar um som de alerta\n",
    "def tocar_som():\n",
    "    if os.name == 'nt':  # Para sistemas Windows\n",
    "        import winsound\n",
    "        winsound.Beep(1000, 1000)  # Frequência de 1000 Hz por 1 segundo\n",
    "    else:  # Para sistemas Unix (Linux/MacOS)\n",
    "        os.system('echo \"\\a\"')  # Este comando gera um beep no terminal\n",
    "\n",
    "def pomodoro(ciclos=4, tempo_trabalho=25, tempo_pausa=5, pausa_long=15):\n",
    "    for ciclo in range(1, ciclos + 1):\n",
    "        print(f\"Iniciando ciclo {ciclo} de {ciclos} - Foco no trabalho!\")\n",
    "        # Temporizador de trabalho (25 minutos)\n",
    "        for i in range(tempo_trabalho * 60, 0, -1):\n",
    "            mins, secs = divmod(i, 60)\n",
    "            print(f\"Tempo restante: {mins:02}:{secs:02}\", end='\\r')\n",
    "            time.sleep(1)\n",
    "        \n",
    "        print(f\"\\nCiclo {ciclo} concluído! Hora de uma pausa de {tempo_pausa} minutos.\")\n",
    "        tocar_som()  # Sinal sonoro após o ciclo de trabalho\n",
    "        \n",
    "        # Pausa curta (5 minutos)\n",
    "        for i in range(tempo_pausa * 60, 0, -1):\n",
    "            mins, secs = divmod(i, 60)\n",
    "            print(f\"Pausa! Tempo restante: {mins:02}:{secs:02}\", end='\\r')\n",
    "            time.sleep(1)\n",
    "        \n",
    "        tocar_som()  # Sinal sonoro após a pausa\n",
    "\n",
    "        if ciclo % 4 == 0:\n",
    "            print(f\"\\nHora de uma pausa longa de {pausa_long} minutos!\")\n",
    "            tocar_som()  # Sinal sonoro antes da pausa longa\n",
    "            # Pausa longa (após 4 ciclos de trabalho)\n",
    "            for i in range(pausa_long * 60, 0, -1):\n",
    "                mins, secs = divmod(i, 60)\n",
    "                print(f\"Pausa longa! Tempo restante: {mins:02}:{secs:02}\", end='\\r')\n",
    "                time.sleep(1)\n",
    "\n",
    "            tocar_som()  # Sinal sonoro após a pausa longa\n",
    "        \n",
    "    print(\"Todos os ciclos concluídos! Boa sorte no próximo Pomodoro!\")\n",
    "\n",
    "# Chamada para iniciar o Pomodoro\n",
    "pomodoro()"
   ]
  }
 ],
 "metadata": {
  "kernelspec": {
   "display_name": ".venv",
   "language": "python",
   "name": "python3"
  },
  "language_info": {
   "codemirror_mode": {
    "name": "ipython",
    "version": 3
   },
   "file_extension": ".py",
   "mimetype": "text/x-python",
   "name": "python",
   "nbconvert_exporter": "python",
   "pygments_lexer": "ipython3",
   "version": "3.12.5"
  }
 },
 "nbformat": 4,
 "nbformat_minor": 2
}
